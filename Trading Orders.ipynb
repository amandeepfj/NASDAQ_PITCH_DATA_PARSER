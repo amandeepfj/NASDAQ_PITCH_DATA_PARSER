{
 "cells": [
  {
   "cell_type": "code",
   "execution_count": 1,
   "metadata": {},
   "outputs": [],
   "source": [
    "import gzip\n",
    "from struct import unpack, pack, calcsize"
   ]
  },
  {
   "cell_type": "code",
   "execution_count": 4,
   "metadata": {},
   "outputs": [],
   "source": [
    "# Offset + length_last - 1\n",
    "# These values are taken from \n",
    "message_type_size_dict = {\n",
    "    \"S\" : 11,\n",
    "    \"R\" : 38,\n",
    "    \"H\" : 24,\n",
    "    \"Y\" : 19,\n",
    "    \"L\" : 25,\n",
    "    \"V\" : 34,\n",
    "    \"W\" : 11,\n",
    "    \"K\" : 27,\n",
    "    \"J\" : 34,\n",
    "    \"h\" : 20,\n",
    "    \"A\" : 35,\n",
    "    \"F\" : 39,\n",
    "    \"E\" : 30,\n",
    "    \"C\" : 35,\n",
    "    \"X\" : 22,\n",
    "    \"D\" : 18,\n",
    "    \"U\" : 34,\n",
    "    \"P\" : 43,\n",
    "    \"Q\" : 39,\n",
    "    \"B\" : 18,\n",
    "    \"I\" : 49,\n",
    "    \"N\" : 19,\n",
    "    \"\\x00\" : 1\n",
    "}"
   ]
  },
  {
   "cell_type": "code",
   "execution_count": 2,
   "metadata": {},
   "outputs": [],
   "source": [
    "def handle_system_messages():\n",
    "    # System Message\n",
    "    #stock_locate, tracking_number, time_stamp1, time_stamp2, event_code = unpack('>HHhLc', msg);\n",
    "    #time_stamp = time_stamp1 | (time_stamp2 << 16) # Merging timestamp\n",
    "    stock_locate, tracking_number, time_stamp, event_code = unpack('>HH6cc', msg);\n",
    "    global market_o, market_s, market_q, market_m, market_e, market_c\n",
    "    if event_code == \"O\":\n",
    "        market_o = market_o + 1\n",
    "        # Start of Messages.Outside oftime stamp messages,the start of day message isthe first message sentin\n",
    "        # any trading day\n",
    "        print stock_locate, tracking_number, time_stamp, event_code\n",
    "    elif event_code == \"S\":\n",
    "        market_s = market_s + 1\n",
    "        # Start of System hours. This message indicatesthatNASDAQis open and ready to start accepting orders\n",
    "        print stock_locate, tracking_number, time_stamp, event_code\n",
    "    elif event_code == \"Q\":\n",
    "        market_q = market_q + 1\n",
    "        # Start of Market hours. This message isintended to indicate that Market Hours orders are available\n",
    "        # for execution\n",
    "        print stock_locate, tracking_number, time_stamp, event_code\n",
    "    elif event_code == \"M\":\n",
    "        market_m = market_m + 1\n",
    "        # End of Market hours. This message isintended to indicate that Market Hours orders are no longer\n",
    "        # available for execution\n",
    "        print stock_locate, tracking_number, time_stamp, event_code\n",
    "    elif event_code == \"E\":\n",
    "        market_e = market_e + 1\n",
    "        # End of System hours. It indicates that Nasdaq is now closed and will not accept any new orderstoday.\n",
    "        # It is still possible to receive Broken Trade messages and Order Delete messages after the End of Day\n",
    "        print stock_locate, tracking_number, time_stamp, event_code\n",
    "    elif event_code == \"C\":\n",
    "        market_c = market_c + 1\n",
    "        # End of Messages. This is always the last message sent in any trading day.\n",
    "        print stock_locate, tracking_number, time_stamp, event_code"
   ]
  },
  {
   "cell_type": "code",
   "execution_count": null,
   "metadata": {},
   "outputs": [
    {
     "name": "stdout",
     "output_type": "stream",
     "text": [
      "0 0 68096397543979 O\n",
      "0 0 147082811087409 S\n",
      "0 0 227440503103258 Q\n"
     ]
    }
   ],
   "source": [
    "bin_data = file(\"20190130.PSX_ITCH_50\", \"rb\")\n",
    "message_type = bin_data.read(1);\n",
    "market_o, market_s, market_q, market_m, market_e, market_c = (0, 0, 0, 0, 0, 0)\n",
    "number_of_messages = 0\n",
    "while message_type:\n",
    "    msg = bin_data.read(message_type_size_dict[message_type])\n",
    "    number_of_messages += 1\n",
    "    # trading Message\n",
    "    if message_type == \"H\":\n",
    "        temp = unpack('>HHhL8ccc4c', msg);\n",
    "    elif message_type == \"S\":\n",
    "        handle_system_messages()\n",
    "    message_type = bin_data.read(1);\n",
    "    if number_of_messages > 100000000: # for all change to 100000000 or remove this if and break!\n",
    "        break\n",
    "    \n",
    "\n",
    "print number_of_messages, market_o, market_s, market_q, market_m, market_e, market_c"
   ]
  },
  {
   "cell_type": "code",
   "execution_count": null,
   "metadata": {},
   "outputs": [],
   "source": [
    "calcsize('>HHhL8ccc4c')\n",
    "calcsize('>HHhLc')\n",
    "calcsize('HHI')\n",
    "\n",
    "# Making a 6 byte timestamp\n",
    "def unpack48(x):\n",
    "    x1, x2, x3 = struct.unpack('<HHI', x)\n",
    "    return x1, x2 | (x3 << 16)"
   ]
  }
 ],
 "metadata": {
  "kernelspec": {
   "display_name": "Python 2",
   "language": "python",
   "name": "python2"
  },
  "language_info": {
   "codemirror_mode": {
    "name": "ipython",
    "version": 2
   },
   "file_extension": ".py",
   "mimetype": "text/x-python",
   "name": "python",
   "nbconvert_exporter": "python",
   "pygments_lexer": "ipython2",
   "version": "2.7.15"
  }
 },
 "nbformat": 4,
 "nbformat_minor": 2
}
