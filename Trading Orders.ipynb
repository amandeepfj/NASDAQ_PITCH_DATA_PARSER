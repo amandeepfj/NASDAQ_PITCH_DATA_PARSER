{
 "cells": [
  {
   "cell_type": "code",
   "execution_count": 1,
   "metadata": {},
   "outputs": [],
   "source": [
    "import gzip\n",
    "from struct import unpack, pack, calcsize"
   ]
  },
  {
   "cell_type": "code",
   "execution_count": 13,
   "metadata": {},
   "outputs": [],
   "source": [
    "# Offset + length_last - 1\n",
    "# These values are taken from \n",
    "message_type_size_dict = {\n",
    "    b\"S\" : 11,\n",
    "    b\"R\" : 38,\n",
    "    b\"H\" : 24,\n",
    "    b\"Y\" : 19,\n",
    "    b\"L\" : 25,\n",
    "    b\"V\" : 34,\n",
    "    b\"W\" : 11,\n",
    "    b\"K\" : 27,\n",
    "    b\"J\" : 34,\n",
    "    b\"h\" : 20,\n",
    "    b\"A\" : 35,\n",
    "    b\"F\" : 39,\n",
    "    b\"E\" : 30,\n",
    "    b\"C\" : 35,\n",
    "    b\"X\" : 22,\n",
    "    b\"D\" : 18,\n",
    "    b\"U\" : 34,\n",
    "    b\"P\" : 43,\n",
    "    b\"Q\" : 39,\n",
    "    b\"B\" : 18,\n",
    "    b\"I\" : 49,\n",
    "    b\"N\" : 19,\n",
    "    b\"\\x00\" : 1\n",
    "}"
   ]
  },
  {
   "cell_type": "code",
   "execution_count": 14,
   "metadata": {},
   "outputs": [],
   "source": [
    "market_open='0930'\n",
    "market_close = '1600'"
   ]
  },
  {
   "cell_type": "code",
   "execution_count": 43,
   "metadata": {},
   "outputs": [],
   "source": [
    "def get_timestamp(binary_value):\n",
    "    time_stamp = unpack('>6s', binary_value)[0];\n",
    "    return int.from_bytes(time_stamp, byteorder='big')\n",
    "    \n",
    "def handle_system_messages():\n",
    "    global market_o, market_s, market_q, market_m, market_e, market_c\n",
    "    \n",
    "    # System Message\n",
    "    stock_locate, tracking_number = unpack('>HH', msg[0:4])\n",
    "    event_code = unpack('>c', msg[10:])[0]\n",
    "    time_stamp = get_timestamp(msg[4:10])\n",
    "    if event_code == b\"O\":\n",
    "        market_o = market_o + 1\n",
    "        # Start of Messages.Outside oftime stamp messages,the start of day message isthe first message sentin\n",
    "        # any trading day\n",
    "    elif event_code == b\"S\":\n",
    "        market_s = market_s + 1\n",
    "        # Start of System hours. This message indicatesthatNASDAQis open and ready to start accepting orders\n",
    "    elif event_code == b\"Q\":\n",
    "        market_q = market_q + 1\n",
    "        # Start of Market hours. This message isintended to indicate that Market Hours orders are available\n",
    "        # for execution\n",
    "    elif event_code == b\"M\":\n",
    "        market_m = market_m + 1\n",
    "        # End of Market hours. This message isintended to indicate that Market Hours orders are no longer\n",
    "        # available for execution\n",
    "    elif event_code == b\"E\":\n",
    "        market_e = market_e + 1\n",
    "        # End of System hours. It indicates that Nasdaq is now closed and will not accept any new orderstoday.\n",
    "        # It is still possible to receive Broken Trade messages and Order Delete messages after the End of Day\n",
    "    elif event_code == b\"C\":\n",
    "        market_c = market_c + 1\n",
    "        # End of Messages. This is always the last message sent in any trading day.\n",
    "    print (stock_locate, tracking_number, time_stamp, event_code)"
   ]
  },
  {
   "cell_type": "code",
   "execution_count": 44,
   "metadata": {},
   "outputs": [
    {
     "name": "stdout",
     "output_type": "stream",
     "text": [
      "0 0 11180838940054 b'O'\n",
      "0 0 28800000025269 b'S'\n",
      "0 0 34200000077413 b'Q'\n",
      "1000001 1 1 1 0 0 0\n"
     ]
    }
   ],
   "source": [
    "bin_data = open(\"20190130.PSX_ITCH_50\", \"rb\")\n",
    "message_type = bin_data.read(1);\n",
    "market_o, market_s, market_q, market_m, market_e, market_c = (0, 0, 0, 0, 0, 0)\n",
    "number_of_messages = 0\n",
    "while message_type:\n",
    "    msg = bin_data.read(message_type_size_dict[message_type])\n",
    "    number_of_messages += 1\n",
    "    # trading Message\n",
    "    if message_type == b\"H\":\n",
    "        temp = unpack('>HHhL8ccc4c', msg);\n",
    "    elif message_type == b\"S\":\n",
    "        handle_system_messages()\n",
    "    message_type = bin_data.read(1);\n",
    "    if number_of_messages > 1000000: # for all change to 100000000 or remove this if and break!\n",
    "        break\n",
    "    \n",
    "\n",
    "print (number_of_messages, market_o, market_s, market_q, market_m, market_e, market_c)"
   ]
  },
  {
   "cell_type": "code",
   "execution_count": null,
   "metadata": {},
   "outputs": [],
   "source": [
    "calcsize('>HHhL8ccc4c')\n",
    "calcsize('>HHhLc')\n",
    "calcsize('HHI')\n",
    "\n",
    "# Making a 6 byte timestamp\n",
    "def unpack48(x):\n",
    "    x1, x2, x3 = struct.unpack('<HHI', x)\n",
    "    return x1, x2 | (x3 << 16)\n",
    "calcsize('HH6cc')"
   ]
  },
  {
   "cell_type": "code",
   "execution_count": 25,
   "metadata": {},
   "outputs": [
    {
     "data": {
      "text/plain": [
       "b'\\x04\\x00'"
      ]
     },
     "execution_count": 25,
     "metadata": {},
     "output_type": "execute_result"
    }
   ],
   "source": [
    "(1024).to_bytes(2, byteorder='big')"
   ]
  }
 ],
 "metadata": {
  "kernelspec": {
   "display_name": "Python 3",
   "language": "python",
   "name": "python3"
  },
  "language_info": {
   "codemirror_mode": {
    "name": "ipython",
    "version": 3
   },
   "file_extension": ".py",
   "mimetype": "text/x-python",
   "name": "python",
   "nbconvert_exporter": "python",
   "pygments_lexer": "ipython3",
   "version": "3.7.2"
  }
 },
 "nbformat": 4,
 "nbformat_minor": 2
}
