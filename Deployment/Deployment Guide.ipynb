{
 "cells": [
  {
   "cell_type": "markdown",
   "metadata": {},
   "source": [
    "## Deployment Guide for ITCH file parser and VWAP calculator\n",
    "\n",
    "<br>**Steps (Don't skip reading through the commented code in code cells)**\n",
    "<br>1. Create python module called as vwap from the vwap.pyx (cython file)"
   ]
  },
  {
   "cell_type": "code",
   "execution_count": 45,
   "metadata": {},
   "outputs": [],
   "source": [
    "# You can skip this step and directly the python file. \n",
    "# But make sure you include the vwap.cp37-win_amd64.pyd to root folder structure.\n",
    "#$ python setup.py build_ext --inplace"
   ]
  },
  {
   "cell_type": "markdown",
   "metadata": {},
   "source": [
    "<br>2. A new file named \"vwap.cp37-win_amd64.pyd\" will be created. Place this file in same folder where all your python libraries or modules are placed.\n",
    "<br>3. Now run the command which calculates the VWAP for file which is given as command line argument to the python file created."
   ]
  },
  {
   "cell_type": "code",
   "execution_count": null,
   "metadata": {},
   "outputs": [],
   "source": [
    "#$ python calculate_vwap.py \"C:/Users/Amandeep/Downloads/NASDAQ_DATA/01302019.NASDAQ_ITCH50.gz\""
   ]
  },
  {
   "cell_type": "code",
   "execution_count": null,
   "metadata": {},
   "outputs": [],
   "source": [
    "#After running above line you should see\n",
    "\n",
    "#The VWAP for each stock are stored in stock_vwap_full.csv\n",
    "#Time taken to execute(in seconds) = 531.0053579807281 \n",
    "\n",
    "#as result of previous command."
   ]
  },
  {
   "cell_type": "code",
   "execution_count": null,
   "metadata": {},
   "outputs": [],
   "source": [
    "#The stock_vwap_full.csv contains VWAP for all the stocks, \n",
    "#which is calculated as a 1 hour running average for all the stocks whose trade messages(cross and non-cross) were received."
   ]
  },
  {
   "cell_type": "code",
   "execution_count": 56,
   "metadata": {},
   "outputs": [],
   "source": [
    "# Let us explore the result\n",
    "import pandas as pd\n",
    "stocks_vwap = pd.read_csv(\"stock_vwap_full.csv\", header = None)\n",
    "stocks_vwap.columns = ['Stock Name', 'VWAP', 'Time of the Day(Nanoseconds)']\n",
    "stocks_vwap['Formated Time of the Day'] = pd.to_timedelta(stocks_vwap['Time of the Day(Nanoseconds)'])"
   ]
  },
  {
   "cell_type": "code",
   "execution_count": 86,
   "metadata": {},
   "outputs": [
    {
     "data": {
      "text/plain": [
       "(1331618, 4)"
      ]
     },
     "execution_count": 86,
     "metadata": {},
     "output_type": "execute_result"
    }
   ],
   "source": [
    "stocks_vwap.shape"
   ]
  },
  {
   "cell_type": "code",
   "execution_count": 88,
   "metadata": {},
   "outputs": [
    {
     "data": {
      "text/plain": [
       "(6837,)"
      ]
     },
     "execution_count": 88,
     "metadata": {},
     "output_type": "execute_result"
    }
   ],
   "source": [
    "stocks_vwap.groupby(['Stock Name']).size().shape"
   ]
  },
  {
   "cell_type": "code",
   "execution_count": 78,
   "metadata": {},
   "outputs": [
    {
     "data": {
      "text/html": [
       "<div>\n",
       "<style scoped>\n",
       "    .dataframe tbody tr th:only-of-type {\n",
       "        vertical-align: middle;\n",
       "    }\n",
       "\n",
       "    .dataframe tbody tr th {\n",
       "        vertical-align: top;\n",
       "    }\n",
       "\n",
       "    .dataframe thead th {\n",
       "        text-align: right;\n",
       "    }\n",
       "</style>\n",
       "<table border=\"1\" class=\"dataframe\">\n",
       "  <thead>\n",
       "    <tr style=\"text-align: right;\">\n",
       "      <th></th>\n",
       "      <th>Stock Name</th>\n",
       "      <th>VWAP</th>\n",
       "      <th>Time of the Day(Nanoseconds)</th>\n",
       "      <th>Formated Time of the Day</th>\n",
       "    </tr>\n",
       "  </thead>\n",
       "  <tbody>\n",
       "    <tr>\n",
       "      <th>0</th>\n",
       "      <td>b'UGAZ    '</td>\n",
       "      <td>39.160000</td>\n",
       "      <td>14400199973027</td>\n",
       "      <td>04:00:00.199973</td>\n",
       "    </tr>\n",
       "    <tr>\n",
       "      <th>1</th>\n",
       "      <td>b'SPY     '</td>\n",
       "      <td>264.399994</td>\n",
       "      <td>14404669286712</td>\n",
       "      <td>04:00:04.669286</td>\n",
       "    </tr>\n",
       "    <tr>\n",
       "      <th>2</th>\n",
       "      <td>b'AMZN    '</td>\n",
       "      <td>1613.709961</td>\n",
       "      <td>14447194467427</td>\n",
       "      <td>04:00:47.194467</td>\n",
       "    </tr>\n",
       "    <tr>\n",
       "      <th>3</th>\n",
       "      <td>b'SPY     '</td>\n",
       "      <td>264.346008</td>\n",
       "      <td>14447304877085</td>\n",
       "      <td>04:00:47.304877</td>\n",
       "    </tr>\n",
       "    <tr>\n",
       "      <th>4</th>\n",
       "      <td>b'AAPL    '</td>\n",
       "      <td>162.720001</td>\n",
       "      <td>14455381649776</td>\n",
       "      <td>04:00:55.381649</td>\n",
       "    </tr>\n",
       "  </tbody>\n",
       "</table>\n",
       "</div>"
      ],
      "text/plain": [
       "    Stock Name         VWAP  Time of the Day(Nanoseconds)  \\\n",
       "0  b'UGAZ    '    39.160000                14400199973027   \n",
       "1  b'SPY     '   264.399994                14404669286712   \n",
       "2  b'AMZN    '  1613.709961                14447194467427   \n",
       "3  b'SPY     '   264.346008                14447304877085   \n",
       "4  b'AAPL    '   162.720001                14455381649776   \n",
       "\n",
       "  Formated Time of the Day  \n",
       "0          04:00:00.199973  \n",
       "1          04:00:04.669286  \n",
       "2          04:00:47.194467  \n",
       "3          04:00:47.304877  \n",
       "4          04:00:55.381649  "
      ]
     },
     "metadata": {},
     "output_type": "display_data"
    },
    {
     "data": {
      "text/html": [
       "<div>\n",
       "<style scoped>\n",
       "    .dataframe tbody tr th:only-of-type {\n",
       "        vertical-align: middle;\n",
       "    }\n",
       "\n",
       "    .dataframe tbody tr th {\n",
       "        vertical-align: top;\n",
       "    }\n",
       "\n",
       "    .dataframe thead th {\n",
       "        text-align: right;\n",
       "    }\n",
       "</style>\n",
       "<table border=\"1\" class=\"dataframe\">\n",
       "  <thead>\n",
       "    <tr style=\"text-align: right;\">\n",
       "      <th></th>\n",
       "      <th>Stock Name</th>\n",
       "      <th>VWAP</th>\n",
       "      <th>Time of the Day(Nanoseconds)</th>\n",
       "      <th>Formated Time of the Day</th>\n",
       "    </tr>\n",
       "  </thead>\n",
       "  <tbody>\n",
       "    <tr>\n",
       "      <th>1331613</th>\n",
       "      <td>b'AAPL    '</td>\n",
       "      <td>165.536407</td>\n",
       "      <td>71963959089755</td>\n",
       "      <td>19:59:23.959089</td>\n",
       "    </tr>\n",
       "    <tr>\n",
       "      <th>1331614</th>\n",
       "      <td>b'AAPL    '</td>\n",
       "      <td>165.536896</td>\n",
       "      <td>71963959745909</td>\n",
       "      <td>19:59:23.959745</td>\n",
       "    </tr>\n",
       "    <tr>\n",
       "      <th>1331615</th>\n",
       "      <td>b'TVIX    '</td>\n",
       "      <td>42.889999</td>\n",
       "      <td>71971372531275</td>\n",
       "      <td>19:59:31.372531</td>\n",
       "    </tr>\n",
       "    <tr>\n",
       "      <th>1331616</th>\n",
       "      <td>b'SCYX    '</td>\n",
       "      <td>1.450000</td>\n",
       "      <td>71978642220909</td>\n",
       "      <td>19:59:38.642220</td>\n",
       "    </tr>\n",
       "    <tr>\n",
       "      <th>1331617</th>\n",
       "      <td>b'TSLA    '</td>\n",
       "      <td>294.818298</td>\n",
       "      <td>71997326769689</td>\n",
       "      <td>19:59:57.326769</td>\n",
       "    </tr>\n",
       "  </tbody>\n",
       "</table>\n",
       "</div>"
      ],
      "text/plain": [
       "          Stock Name        VWAP  Time of the Day(Nanoseconds)  \\\n",
       "1331613  b'AAPL    '  165.536407                71963959089755   \n",
       "1331614  b'AAPL    '  165.536896                71963959745909   \n",
       "1331615  b'TVIX    '   42.889999                71971372531275   \n",
       "1331616  b'SCYX    '    1.450000                71978642220909   \n",
       "1331617  b'TSLA    '  294.818298                71997326769689   \n",
       "\n",
       "        Formated Time of the Day  \n",
       "1331613          19:59:23.959089  \n",
       "1331614          19:59:23.959745  \n",
       "1331615          19:59:31.372531  \n",
       "1331616          19:59:38.642220  \n",
       "1331617          19:59:57.326769  "
      ]
     },
     "metadata": {},
     "output_type": "display_data"
    }
   ],
   "source": [
    "display(stocks_vwap.head())\n",
    "display(stocks_vwap.tail())"
   ]
  },
  {
   "cell_type": "markdown",
   "metadata": {},
   "source": [
    "**Note the times you see are include pre-market and post-market messages, because the question just said trading hours, I assumed they include pre-market and post-market trading messages**"
   ]
  },
  {
   "cell_type": "code",
   "execution_count": 69,
   "metadata": {},
   "outputs": [
    {
     "data": {
      "text/plain": [
       "(100, 4)"
      ]
     },
     "execution_count": 69,
     "metadata": {},
     "output_type": "execute_result"
    }
   ],
   "source": [
    "stocks_vwap.loc[stocks_vwap['Stock Name'] == \"b'TSLA    '\"].sample(n=100, random_state=1).shape"
   ]
  },
  {
   "cell_type": "code",
   "execution_count": 85,
   "metadata": {},
   "outputs": [
    {
     "data": {
      "image/png": "[encoded data removed]",
      "text/plain": [
       "<Figure size 432x288 with 1 Axes>"
      ]
     },
     "metadata": {
      "needs_background": "light"
     },
     "output_type": "display_data"
    },
    {
     "data": {
      "image/png": "[encoded data removed]",
      "text/plain": [
       "<Figure size 432x288 with 1 Axes>"
      ]
     },
     "metadata": {
      "needs_background": "light"
     },
     "output_type": "display_data"
    }
   ],
   "source": [
    "%matplotlib inline\n",
    "import matplotlib.pyplot as plt\n",
    "import seaborn as sns\n",
    "\n",
    "# Let us see the stocks for Tesla.\n",
    "to_plot = stocks_vwap.loc[stocks_vwap['Stock Name'] == \"b'TSLA    '\"].sample(n = 300, random_state = 1)\n",
    "# Plot the responses for different events and regions\n",
    "sns.lineplot(x = \"Formated Time of the Day\", y = \"VWAP\", data = to_plot)\n",
    "plt.show()\n",
    "\n",
    "\n",
    "# Let us see the stocks for Amazon.\n",
    "to_plot = stocks_vwap.loc[stocks_vwap['Stock Name'] == \"b'AMZN    '\"].sample(n = 200, random_state = 44)\n",
    "# Plot the responses for different events and regions\n",
    "sns.lineplot(x = \"Formated Time of the Day\", y = \"VWAP\", data = to_plot)\n",
    "plt.show()"
   ]
  }
 ],
 "metadata": {
  "kernelspec": {
   "display_name": "Python 3",
   "language": "python",
   "name": "python3"
  },
  "language_info": {
   "codemirror_mode": {
    "name": "ipython",
    "version": 3
   },
   "file_extension": ".py",
   "mimetype": "text/x-python",
   "name": "python",
   "nbconvert_exporter": "python",
   "pygments_lexer": "ipython3",
   "version": "3.7.2"
  }
 },
 "nbformat": 4,
 "nbformat_minor": 2
}
